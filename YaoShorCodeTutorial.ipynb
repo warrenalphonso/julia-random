{
 "cells": [
  {
   "cell_type": "code",
   "execution_count": 6,
   "metadata": {},
   "outputs": [],
   "source": [
    "using Yao\n",
    "using SymEngine"
   ]
  },
  {
   "cell_type": "code",
   "execution_count": 7,
   "metadata": {},
   "outputs": [
    {
     "data": {
      "text/plain": [
       "shor (generic function with 1 method)"
      ]
     },
     "execution_count": 7,
     "metadata": {},
     "output_type": "execute_result"
    }
   ],
   "source": [
    "shor(E) = chain(9, \n",
    "    # Encode circuit \n",
    "    cnot(1, 4), cnot(1, 7), \n",
    "    put(1=>H), put(4=>H), put(7=>H), \n",
    "    cnot(1,2), cnot(1,3), cnot(4,5), cnot(4,6), cnot(7,8), cnot(7,9), \n",
    "    # Apply the error \n",
    "    E, \n",
    "    # Decode circuit \n",
    "    cnot(1,2), cnot(1,3), cnot((2,3), 1), \n",
    "    cnot(4,5), cnot(4,6), cnot((5,6), 4), \n",
    "    cnot(7,8), cnot(7,9), cnot((8,9), 7), \n",
    "    put(1=>H), put(4=>H), put(7=>H), cnot(1,4), cnot((4,7), 1)\n",
    ")"
   ]
  },
  {
   "cell_type": "code",
   "execution_count": 8,
   "metadata": {},
   "outputs": [
    {
     "data": {
      "text/plain": [
       "(α, β)"
      ]
     },
     "execution_count": 8,
     "metadata": {},
     "output_type": "execute_result"
    }
   ],
   "source": [
    "@vars α β"
   ]
  },
  {
   "cell_type": "code",
   "execution_count": 34,
   "metadata": {},
   "outputs": [
    {
     "data": {
      "text/plain": [
       "(1.0 + 0.0*im)*α|0⟩ + (1.0 + 0.0*im)*β|1⟩"
      ]
     },
     "execution_count": 34,
     "metadata": {},
     "output_type": "execute_result"
    }
   ],
   "source": [
    "s = α * ket\"0\" + β * ket\"1\" |> addbits!(8)\n",
    "# E = kron(1=>X, 2=>Z, 3=>Z, 4=>X, 5=>Z, 6=>Z, 7=>X, 8=>Z, 9=>Z)\n",
    "E = kron(9, 1=>X)\n",
    "s |> shor(E) |> partial_tr(2:9) |> expand"
   ]
  },
  {
   "cell_type": "code",
   "execution_count": 35,
   "metadata": {},
   "outputs": [],
   "source": [
    "# The output is a little messy but up to a global phase, this fixes any 1 qubit error"
   ]
  },
  {
   "cell_type": "code",
   "execution_count": null,
   "metadata": {},
   "outputs": [],
   "source": []
  }
 ],
 "metadata": {
  "@webio": {
   "lastCommId": null,
   "lastKernelId": null
  },
  "kernelspec": {
   "display_name": "Julia 1.4.2",
   "language": "julia",
   "name": "julia-1.4"
  },
  "language_info": {
   "file_extension": ".jl",
   "mimetype": "application/julia",
   "name": "julia",
   "version": "1.4.2"
  }
 },
 "nbformat": 4,
 "nbformat_minor": 4
}
