{
 "cells": [
  {
   "cell_type": "code",
   "execution_count": 2,
   "metadata": {},
   "outputs": [
    {
     "data": {
      "text/plain": [
       "fun (generic function with 3 methods)"
      ]
     },
     "execution_count": 2,
     "metadata": {},
     "output_type": "execute_result"
    }
   ],
   "source": [
    "# Unlike Python, Julia doesn't require optional arguments to have a keyword\n",
    "function fun(x, y=4, z=3im) \n",
    "    println(\"x = $x y = $y z = $z\")\n",
    "end"
   ]
  },
  {
   "cell_type": "code",
   "execution_count": 4,
   "metadata": {},
   "outputs": [
    {
     "name": "stdout",
     "output_type": "stream",
     "text": [
      "x = 1 y = 4 z = 0 + 3im\n"
     ]
    }
   ],
   "source": [
    "fun(1)"
   ]
  },
  {
   "cell_type": "code",
   "execution_count": 5,
   "metadata": {},
   "outputs": [
    {
     "name": "stdout",
     "output_type": "stream",
     "text": [
      "x = 2 y = 100 z = 0 + 3im\n"
     ]
    }
   ],
   "source": [
    "fun(2, 100)"
   ]
  },
  {
   "cell_type": "code",
   "execution_count": 6,
   "metadata": {},
   "outputs": [
    {
     "data": {
      "text/plain": [
       "f (generic function with 1 method)"
      ]
     },
     "execution_count": 6,
     "metadata": {},
     "output_type": "execute_result"
    }
   ],
   "source": [
    "# We can also assign keywords so that order isn't as important to make using functions with many arguments easier\n",
    "function f(x; y)\n",
    "    # y isn't optional but needs to be passed as f(1; y=2)\n",
    "    println(\"x = $x y = $y\")\n",
    "end"
   ]
  },
  {
   "cell_type": "code",
   "execution_count": 7,
   "metadata": {},
   "outputs": [
    {
     "ename": "UndefKeywordError",
     "evalue": "UndefKeywordError: keyword argument y not assigned",
     "output_type": "error",
     "traceback": [
      "UndefKeywordError: keyword argument y not assigned",
      "",
      "Stacktrace:",
      " [1] f(::Int64) at ./In[6]:4",
      " [2] top-level scope at In[7]:1"
     ]
    }
   ],
   "source": [
    "f(1)"
   ]
  },
  {
   "cell_type": "code",
   "execution_count": 8,
   "metadata": {},
   "outputs": [
    {
     "ename": "MethodError",
     "evalue": "MethodError: no method matching f(::Int64, ::Int64)\nClosest candidates are:\n  f(::Any; y) at In[6]:4",
     "output_type": "error",
     "traceback": [
      "MethodError: no method matching f(::Int64, ::Int64)\nClosest candidates are:\n  f(::Any; y) at In[6]:4",
      "",
      "Stacktrace:",
      " [1] top-level scope at In[8]:1"
     ]
    }
   ],
   "source": [
    "f(1, 2)"
   ]
  },
  {
   "cell_type": "code",
   "execution_count": 9,
   "metadata": {},
   "outputs": [
    {
     "ename": "ErrorException",
     "evalue": "syntax: invalid keyword argument syntax \"2\"",
     "output_type": "error",
     "traceback": [
      "syntax: invalid keyword argument syntax \"2\"",
      "",
      "Stacktrace:",
      " [1] top-level scope at /home/warren/.julia/packages/IJulia/DrVMH/src/kernel.jl:52"
     ]
    }
   ],
   "source": [
    "f(1; 2)"
   ]
  },
  {
   "cell_type": "code",
   "execution_count": 10,
   "metadata": {},
   "outputs": [
    {
     "name": "stdout",
     "output_type": "stream",
     "text": [
      "x = 1 y = 2\n"
     ]
    }
   ],
   "source": [
    "f(1; y=2)"
   ]
  },
  {
   "cell_type": "code",
   "execution_count": 11,
   "metadata": {},
   "outputs": [
    {
     "data": {
      "text/plain": [
       "f (generic function with 1 method)"
      ]
     },
     "execution_count": 11,
     "metadata": {},
     "output_type": "execute_result"
    }
   ],
   "source": [
    "# This is pretty weird though. Usually if we name an argument we give it a default. \n",
    "function f(x; y=1)\n",
    "    println(\"x = $x y = $y\")\n",
    "end"
   ]
  },
  {
   "cell_type": "code",
   "execution_count": 13,
   "metadata": {},
   "outputs": [
    {
     "name": "stdout",
     "output_type": "stream",
     "text": [
      "x = 1 y = 2\n"
     ]
    }
   ],
   "source": [
    "f(1, y=2)"
   ]
  },
  {
   "cell_type": "code",
   "execution_count": 14,
   "metadata": {},
   "outputs": [
    {
     "name": "stdout",
     "output_type": "stream",
     "text": [
      "x = 1 y = 1\n"
     ]
    }
   ],
   "source": [
    "f(1)"
   ]
  },
  {
   "cell_type": "markdown",
   "metadata": {},
   "source": [
    "Here's something cool: the **do-block syntax**. Passing functions as arguments can be awkward if the function spans multiple lines: "
   ]
  },
  {
   "cell_type": "code",
   "execution_count": 15,
   "metadata": {},
   "outputs": [
    {
     "data": {
      "text/plain": [
       "4-element Array{Int64,1}:\n",
       " 0\n",
       " 1\n",
       " 1\n",
       " 2"
      ]
     },
     "execution_count": 15,
     "metadata": {},
     "output_type": "execute_result"
    }
   ],
   "source": [
    "map(x -> begin \n",
    "            if x < 0\n",
    "                return 0 \n",
    "            elseif x == 0\n",
    "                return 1 \n",
    "            else \n",
    "                return x\n",
    "            end\n",
    "        end, [-1, 0, 1, 2])"
   ]
  },
  {
   "cell_type": "markdown",
   "metadata": {},
   "source": [
    "The keyword `do` makes it a little more clear: "
   ]
  },
  {
   "cell_type": "code",
   "execution_count": 16,
   "metadata": {},
   "outputs": [
    {
     "data": {
      "text/plain": [
       "4-element Array{Int64,1}:\n",
       " 0\n",
       " 1\n",
       " 1\n",
       " 2"
      ]
     },
     "execution_count": 16,
     "metadata": {},
     "output_type": "execute_result"
    }
   ],
   "source": [
    "map([-1, 0, 1, 2]) do x\n",
    "    if x < 0\n",
    "        return 0\n",
    "    elseif x == 0\n",
    "        return 1 \n",
    "    else \n",
    "        return x\n",
    "    end\n",
    "end"
   ]
  },
  {
   "cell_type": "markdown",
   "metadata": {},
   "source": [
    "`do` creates an anonymous function and passes `x` as the argument. We can have multiple argument functions too, and then passes it as the first argument to `map`. *How* the function is used is based on the outer function (`map` here, which applies the function to each item in the array). "
   ]
  },
  {
   "cell_type": "markdown",
   "metadata": {},
   "source": [
    "Here's another use that's pretty cool: the `open` function has multiple different versions with different parameters. One allows us to specify a function which is called after opening a file, and then after the function the file is closed. We can use this functionality to avoid writing the code to close a file because that's messier. "
   ]
  },
  {
   "cell_type": "code",
   "execution_count": 21,
   "metadata": {
    "scrolled": true
   },
   "outputs": [
    {
     "name": "stdout",
     "output_type": "stream",
     "text": [
      "search: \u001b[0m\u001b[1mo\u001b[22m\u001b[0m\u001b[1mp\u001b[22m\u001b[0m\u001b[1me\u001b[22m\u001b[0m\u001b[1mn\u001b[22m is\u001b[0m\u001b[1mo\u001b[22m\u001b[0m\u001b[1mp\u001b[22m\u001b[0m\u001b[1me\u001b[22m\u001b[0m\u001b[1mn\u001b[22m pr\u001b[0m\u001b[1mo\u001b[22m\u001b[0m\u001b[1mp\u001b[22m\u001b[0m\u001b[1me\u001b[22mrty\u001b[0m\u001b[1mn\u001b[22mames C\u001b[0m\u001b[1mo\u001b[22mm\u001b[0m\u001b[1mp\u001b[22mosit\u001b[0m\u001b[1me\u001b[22mExceptio\u001b[0m\u001b[1mn\u001b[22m \u001b[0m\u001b[1mo\u001b[22m\u001b[0m\u001b[1mp\u001b[22m\u001b[0m\u001b[1me\u001b[22mrm haspr\u001b[0m\u001b[1mo\u001b[22m\u001b[0m\u001b[1mp\u001b[22m\u001b[0m\u001b[1me\u001b[22mrty\n",
      "\n"
     ]
    },
    {
     "data": {
      "text/latex": [
       "\\begin{verbatim}\n",
       "open(f::Function, args...; kwargs....)\n",
       "\\end{verbatim}\n",
       "Apply the function \\texttt{f} to the result of \\texttt{open(args...; kwargs...)} and close the resulting file descriptor upon completion.\n",
       "\n",
       "\\section{Examples}\n",
       "\\begin{verbatim}\n",
       "julia> open(\"myfile.txt\", \"w\") do io\n",
       "           write(io, \"Hello world!\")\n",
       "       end;\n",
       "\n",
       "julia> open(f->read(f, String), \"myfile.txt\")\n",
       "\"Hello world!\"\n",
       "\n",
       "julia> rm(\"myfile.txt\")\n",
       "\\end{verbatim}\n",
       "\\rule{\\textwidth}{1pt}\n",
       "\\begin{verbatim}\n",
       "open(filename::AbstractString; keywords...) -> IOStream\n",
       "\\end{verbatim}\n",
       "Open a file in a mode specified by five boolean keyword arguments:\n",
       "\n",
       "\\begin{tabular}\n",
       "{l | l | l}\n",
       "Keyword & Description & Default \\\\\n",
       "\\hline\n",
       "\\texttt{read} & open for reading & \\texttt{!write} \\\\\n",
       "\\texttt{write} & open for writing & \\texttt{truncate | append} \\\\\n",
       "\\texttt{create} & create if non-existent & \\texttt{!read \\& write | truncate | append} \\\\\n",
       "\\texttt{truncate} & truncate to zero size & \\texttt{!read \\& write} \\\\\n",
       "\\texttt{append} & seek to end & \\texttt{false} \\\\\n",
       "\\end{tabular}\n",
       "The default when no keywords are passed is to open files for reading only. Returns a stream for accessing the opened file.\n",
       "\n",
       "\\rule{\\textwidth}{1pt}\n",
       "\\begin{verbatim}\n",
       "open(filename::AbstractString, [mode::AbstractString]) -> IOStream\n",
       "\\end{verbatim}\n",
       "Alternate syntax for open, where a string-based mode specifier is used instead of the five booleans. The values of \\texttt{mode} correspond to those from \\texttt{fopen(3)} or Perl \\texttt{open}, and are equivalent to setting the following boolean groups:\n",
       "\n",
       "\\begin{tabular}\n",
       "{l | l | l}\n",
       "Mode & Description & Keywords \\\\\n",
       "\\hline\n",
       "\\texttt{r} & read & none \\\\\n",
       "\\texttt{w} & write, create, truncate & \\texttt{write = true} \\\\\n",
       "\\texttt{a} & write, create, append & \\texttt{append = true} \\\\\n",
       "\\texttt{r+} & read, write & \\texttt{read = true, write = true} \\\\\n",
       "\\texttt{w+} & read, write, create, truncate & \\texttt{truncate = true, read = true} \\\\\n",
       "\\texttt{a+} & read, write, create, append & \\texttt{append = true, read = true} \\\\\n",
       "\\end{tabular}\n",
       "\\section{Examples}\n",
       "\\begin{verbatim}\n",
       "julia> io = open(\"myfile.txt\", \"w\");\n",
       "\n",
       "julia> write(io, \"Hello world!\");\n",
       "\n",
       "julia> close(io);\n",
       "\n",
       "julia> io = open(\"myfile.txt\", \"r\");\n",
       "\n",
       "julia> read(io, String)\n",
       "\"Hello world!\"\n",
       "\n",
       "julia> write(io, \"This file is read only\")\n",
       "ERROR: ArgumentError: write failed, IOStream is not writeable\n",
       "[...]\n",
       "\n",
       "julia> close(io)\n",
       "\n",
       "julia> io = open(\"myfile.txt\", \"a\");\n",
       "\n",
       "julia> write(io, \"This stream is not read only\")\n",
       "28\n",
       "\n",
       "julia> close(io)\n",
       "\n",
       "julia> rm(\"myfile.txt\")\n",
       "\\end{verbatim}\n",
       "\\rule{\\textwidth}{1pt}\n",
       "\\begin{verbatim}\n",
       "open(fd::OS_HANDLE) -> IO\n",
       "\\end{verbatim}\n",
       "Take a raw file descriptor wrap it in a Julia-aware IO type, and take ownership of the fd handle. Call \\texttt{open(Libc.dup(fd))} to avoid the ownership capture of the original handle.\n",
       "\n",
       "\\begin{quote}\n",
       "\\textbf{warn}\n",
       "\n",
       "Warn\n",
       "\n",
       "Do not call this on a handle that's already owned by some other part of the system.\n",
       "\n",
       "\\end{quote}\n",
       "\\rule{\\textwidth}{1pt}\n",
       "\\begin{verbatim}\n",
       "open(command, mode::AbstractString, stdio=devnull)\n",
       "\\end{verbatim}\n",
       "Run \\texttt{command} asynchronously. Like \\texttt{open(command, stdio; read, write)} except specifying the read and write flags via a mode string instead of keyword arguments. Possible mode strings are:\n",
       "\n",
       "\\begin{tabular}\n",
       "{l | l | l}\n",
       "Mode & Description & Keywords \\\\\n",
       "\\hline\n",
       "\\texttt{r} & read & none \\\\\n",
       "\\texttt{w} & write & \\texttt{write = true} \\\\\n",
       "\\texttt{r+} & read, write & \\texttt{read = true, write = true} \\\\\n",
       "\\texttt{w+} & read, write & \\texttt{read = true, write = true} \\\\\n",
       "\\end{tabular}\n",
       "\\rule{\\textwidth}{1pt}\n",
       "\\begin{verbatim}\n",
       "open(command, stdio=devnull; write::Bool = false, read::Bool = !write)\n",
       "\\end{verbatim}\n",
       "Start running \\texttt{command} asynchronously, and return a \\texttt{process::IO} object.  If \\texttt{read} is true, then reads from the process come from the process's standard output and \\texttt{stdio} optionally specifies the process's standard input stream.  If \\texttt{write} is true, then writes go to the process's standard input and \\texttt{stdio} optionally specifies the process's standard output stream. The process's standard error stream is connected to the current global \\texttt{stderr}.\n",
       "\n",
       "\\rule{\\textwidth}{1pt}\n",
       "\\begin{verbatim}\n",
       "open(f::Function, command, args...; kwargs...)\n",
       "\\end{verbatim}\n",
       "Similar to \\texttt{open(command, args...; kwargs...)}, but calls \\texttt{f(stream)} on the resulting process stream, then closes the input stream and waits for the process to complete. Returns the value returned by \\texttt{f}.\n",
       "\n"
      ],
      "text/markdown": [
       "```\n",
       "open(f::Function, args...; kwargs....)\n",
       "```\n",
       "\n",
       "Apply the function `f` to the result of `open(args...; kwargs...)` and close the resulting file descriptor upon completion.\n",
       "\n",
       "# Examples\n",
       "\n",
       "```jldoctest\n",
       "julia> open(\"myfile.txt\", \"w\") do io\n",
       "           write(io, \"Hello world!\")\n",
       "       end;\n",
       "\n",
       "julia> open(f->read(f, String), \"myfile.txt\")\n",
       "\"Hello world!\"\n",
       "\n",
       "julia> rm(\"myfile.txt\")\n",
       "```\n",
       "\n",
       "---\n",
       "\n",
       "```\n",
       "open(filename::AbstractString; keywords...) -> IOStream\n",
       "```\n",
       "\n",
       "Open a file in a mode specified by five boolean keyword arguments:\n",
       "\n",
       "| Keyword    | Description            | Default                               |\n",
       "|:---------- |:---------------------- |:------------------------------------- |\n",
       "| `read`     | open for reading       | `!write`                              |\n",
       "| `write`    | open for writing       | `truncate \\| append`                  |\n",
       "| `create`   | create if non-existent | `!read & write \\| truncate \\| append` |\n",
       "| `truncate` | truncate to zero size  | `!read & write`                       |\n",
       "| `append`   | seek to end            | `false`                               |\n",
       "\n",
       "The default when no keywords are passed is to open files for reading only. Returns a stream for accessing the opened file.\n",
       "\n",
       "---\n",
       "\n",
       "```\n",
       "open(filename::AbstractString, [mode::AbstractString]) -> IOStream\n",
       "```\n",
       "\n",
       "Alternate syntax for open, where a string-based mode specifier is used instead of the five booleans. The values of `mode` correspond to those from `fopen(3)` or Perl `open`, and are equivalent to setting the following boolean groups:\n",
       "\n",
       "| Mode | Description                   | Keywords                       |\n",
       "|:---- |:----------------------------- |:------------------------------ |\n",
       "| `r`  | read                          | none                           |\n",
       "| `w`  | write, create, truncate       | `write = true`                 |\n",
       "| `a`  | write, create, append         | `append = true`                |\n",
       "| `r+` | read, write                   | `read = true, write = true`    |\n",
       "| `w+` | read, write, create, truncate | `truncate = true, read = true` |\n",
       "| `a+` | read, write, create, append   | `append = true, read = true`   |\n",
       "\n",
       "# Examples\n",
       "\n",
       "```jldoctest\n",
       "julia> io = open(\"myfile.txt\", \"w\");\n",
       "\n",
       "julia> write(io, \"Hello world!\");\n",
       "\n",
       "julia> close(io);\n",
       "\n",
       "julia> io = open(\"myfile.txt\", \"r\");\n",
       "\n",
       "julia> read(io, String)\n",
       "\"Hello world!\"\n",
       "\n",
       "julia> write(io, \"This file is read only\")\n",
       "ERROR: ArgumentError: write failed, IOStream is not writeable\n",
       "[...]\n",
       "\n",
       "julia> close(io)\n",
       "\n",
       "julia> io = open(\"myfile.txt\", \"a\");\n",
       "\n",
       "julia> write(io, \"This stream is not read only\")\n",
       "28\n",
       "\n",
       "julia> close(io)\n",
       "\n",
       "julia> rm(\"myfile.txt\")\n",
       "```\n",
       "\n",
       "---\n",
       "\n",
       "```\n",
       "open(fd::OS_HANDLE) -> IO\n",
       "```\n",
       "\n",
       "Take a raw file descriptor wrap it in a Julia-aware IO type, and take ownership of the fd handle. Call `open(Libc.dup(fd))` to avoid the ownership capture of the original handle.\n",
       "\n",
       "!!! warn\n",
       "    Do not call this on a handle that's already owned by some other part of the system.\n",
       "\n",
       "\n",
       "---\n",
       "\n",
       "```\n",
       "open(command, mode::AbstractString, stdio=devnull)\n",
       "```\n",
       "\n",
       "Run `command` asynchronously. Like `open(command, stdio; read, write)` except specifying the read and write flags via a mode string instead of keyword arguments. Possible mode strings are:\n",
       "\n",
       "| Mode | Description | Keywords                    |\n",
       "|:---- |:----------- |:--------------------------- |\n",
       "| `r`  | read        | none                        |\n",
       "| `w`  | write       | `write = true`              |\n",
       "| `r+` | read, write | `read = true, write = true` |\n",
       "| `w+` | read, write | `read = true, write = true` |\n",
       "\n",
       "---\n",
       "\n",
       "```\n",
       "open(command, stdio=devnull; write::Bool = false, read::Bool = !write)\n",
       "```\n",
       "\n",
       "Start running `command` asynchronously, and return a `process::IO` object.  If `read` is true, then reads from the process come from the process's standard output and `stdio` optionally specifies the process's standard input stream.  If `write` is true, then writes go to the process's standard input and `stdio` optionally specifies the process's standard output stream. The process's standard error stream is connected to the current global `stderr`.\n",
       "\n",
       "---\n",
       "\n",
       "```\n",
       "open(f::Function, command, args...; kwargs...)\n",
       "```\n",
       "\n",
       "Similar to `open(command, args...; kwargs...)`, but calls `f(stream)` on the resulting process stream, then closes the input stream and waits for the process to complete. Returns the value returned by `f`.\n"
      ],
      "text/plain": [
       "\u001b[36m  open(f::Function, args...; kwargs....)\u001b[39m\n",
       "\n",
       "  Apply the function \u001b[36mf\u001b[39m to the result of \u001b[36mopen(args...; kwargs...)\u001b[39m and close the\n",
       "  resulting file descriptor upon completion.\n",
       "\n",
       "\u001b[1m  Examples\u001b[22m\n",
       "\u001b[1m  ≡≡≡≡≡≡≡≡≡≡\u001b[22m\n",
       "\n",
       "\u001b[36m  julia> open(\"myfile.txt\", \"w\") do io\u001b[39m\n",
       "\u001b[36m             write(io, \"Hello world!\")\u001b[39m\n",
       "\u001b[36m         end;\u001b[39m\n",
       "\u001b[36m  \u001b[39m\n",
       "\u001b[36m  julia> open(f->read(f, String), \"myfile.txt\")\u001b[39m\n",
       "\u001b[36m  \"Hello world!\"\u001b[39m\n",
       "\u001b[36m  \u001b[39m\n",
       "\u001b[36m  julia> rm(\"myfile.txt\")\u001b[39m\n",
       "\n",
       "  ────────────────────────────────────────────────────────────────────────────\n",
       "\n",
       "\u001b[36m  open(filename::AbstractString; keywords...) -> IOStream\u001b[39m\n",
       "\n",
       "  Open a file in a mode specified by five boolean keyword arguments:\n",
       "\n",
       "  Keyword  Description            Default                          \n",
       "  –––––––– –––––––––––––––––––––– –––––––––––––––––––––––––––––––––\n",
       "  \u001b[36mread\u001b[39m     open for reading       \u001b[36m!write\u001b[39m                           \n",
       "  \u001b[36mwrite\u001b[39m    open for writing       \u001b[36mtruncate | append\u001b[39m                \n",
       "  \u001b[36mcreate\u001b[39m   create if non-existent \u001b[36m!read & write | truncate | append\u001b[39m\n",
       "  \u001b[36mtruncate\u001b[39m truncate to zero size  \u001b[36m!read & write\u001b[39m                    \n",
       "  \u001b[36mappend\u001b[39m   seek to end            \u001b[36mfalse\u001b[39m                            \n",
       "\n",
       "  The default when no keywords are passed is to open files for reading only.\n",
       "  Returns a stream for accessing the opened file.\n",
       "\n",
       "  ────────────────────────────────────────────────────────────────────────────\n",
       "\n",
       "\u001b[36m  open(filename::AbstractString, [mode::AbstractString]) -> IOStream\u001b[39m\n",
       "\n",
       "  Alternate syntax for open, where a string-based mode specifier is used\n",
       "  instead of the five booleans. The values of \u001b[36mmode\u001b[39m correspond to those from\n",
       "  \u001b[36mfopen(3)\u001b[39m or Perl \u001b[36mopen\u001b[39m, and are equivalent to setting the following boolean\n",
       "  groups:\n",
       "\n",
       "  Mode Description                   Keywords                    \n",
       "  –––– ––––––––––––––––––––––––––––– ––––––––––––––––––––––––––––\n",
       "  \u001b[36mr\u001b[39m    read                          none                        \n",
       "  \u001b[36mw\u001b[39m    write, create, truncate       \u001b[36mwrite = true\u001b[39m                \n",
       "  \u001b[36ma\u001b[39m    write, create, append         \u001b[36mappend = true\u001b[39m               \n",
       "  \u001b[36mr+\u001b[39m   read, write                   \u001b[36mread = true, write = true\u001b[39m   \n",
       "  \u001b[36mw+\u001b[39m   read, write, create, truncate \u001b[36mtruncate = true, read = true\u001b[39m\n",
       "  \u001b[36ma+\u001b[39m   read, write, create, append   \u001b[36mappend = true, read = true\u001b[39m  \n",
       "\n",
       "\u001b[1m  Examples\u001b[22m\n",
       "\u001b[1m  ≡≡≡≡≡≡≡≡≡≡\u001b[22m\n",
       "\n",
       "\u001b[36m  julia> io = open(\"myfile.txt\", \"w\");\u001b[39m\n",
       "\u001b[36m  \u001b[39m\n",
       "\u001b[36m  julia> write(io, \"Hello world!\");\u001b[39m\n",
       "\u001b[36m  \u001b[39m\n",
       "\u001b[36m  julia> close(io);\u001b[39m\n",
       "\u001b[36m  \u001b[39m\n",
       "\u001b[36m  julia> io = open(\"myfile.txt\", \"r\");\u001b[39m\n",
       "\u001b[36m  \u001b[39m\n",
       "\u001b[36m  julia> read(io, String)\u001b[39m\n",
       "\u001b[36m  \"Hello world!\"\u001b[39m\n",
       "\u001b[36m  \u001b[39m\n",
       "\u001b[36m  julia> write(io, \"This file is read only\")\u001b[39m\n",
       "\u001b[36m  ERROR: ArgumentError: write failed, IOStream is not writeable\u001b[39m\n",
       "\u001b[36m  [...]\u001b[39m\n",
       "\u001b[36m  \u001b[39m\n",
       "\u001b[36m  julia> close(io)\u001b[39m\n",
       "\u001b[36m  \u001b[39m\n",
       "\u001b[36m  julia> io = open(\"myfile.txt\", \"a\");\u001b[39m\n",
       "\u001b[36m  \u001b[39m\n",
       "\u001b[36m  julia> write(io, \"This stream is not read only\")\u001b[39m\n",
       "\u001b[36m  28\u001b[39m\n",
       "\u001b[36m  \u001b[39m\n",
       "\u001b[36m  julia> close(io)\u001b[39m\n",
       "\u001b[36m  \u001b[39m\n",
       "\u001b[36m  julia> rm(\"myfile.txt\")\u001b[39m\n",
       "\n",
       "  ────────────────────────────────────────────────────────────────────────────\n",
       "\n",
       "\u001b[36m  open(fd::OS_HANDLE) -> IO\u001b[39m\n",
       "\n",
       "  Take a raw file descriptor wrap it in a Julia-aware IO type, and take\n",
       "  ownership of the fd handle. Call \u001b[36mopen(Libc.dup(fd))\u001b[39m to avoid the ownership\n",
       "  capture of the original handle.\n",
       "\n",
       "\u001b[39m\u001b[1m  │ \u001b[22m\u001b[39m\u001b[1mWarn\u001b[22m\n",
       "\u001b[39m\u001b[1m  │\u001b[22m\n",
       "\u001b[39m\u001b[1m  │\u001b[22m  Do not call this on a handle that's already owned by some other\n",
       "\u001b[39m\u001b[1m  │\u001b[22m  part of the system.\n",
       "\n",
       "  ────────────────────────────────────────────────────────────────────────────\n",
       "\n",
       "\u001b[36m  open(command, mode::AbstractString, stdio=devnull)\u001b[39m\n",
       "\n",
       "  Run \u001b[36mcommand\u001b[39m asynchronously. Like \u001b[36mopen(command, stdio; read, write)\u001b[39m except\n",
       "  specifying the read and write flags via a mode string instead of keyword\n",
       "  arguments. Possible mode strings are:\n",
       "\n",
       "  Mode Description Keywords                 \n",
       "  –––– ––––––––––– –––––––––––––––––––––––––\n",
       "  \u001b[36mr\u001b[39m    read        none                     \n",
       "  \u001b[36mw\u001b[39m    write       \u001b[36mwrite = true\u001b[39m             \n",
       "  \u001b[36mr+\u001b[39m   read, write \u001b[36mread = true, write = true\u001b[39m\n",
       "  \u001b[36mw+\u001b[39m   read, write \u001b[36mread = true, write = true\u001b[39m\n",
       "\n",
       "  ────────────────────────────────────────────────────────────────────────────\n",
       "\n",
       "\u001b[36m  open(command, stdio=devnull; write::Bool = false, read::Bool = !write)\u001b[39m\n",
       "\n",
       "  Start running \u001b[36mcommand\u001b[39m asynchronously, and return a \u001b[36mprocess::IO\u001b[39m object. If\n",
       "  \u001b[36mread\u001b[39m is true, then reads from the process come from the process's standard\n",
       "  output and \u001b[36mstdio\u001b[39m optionally specifies the process's standard input stream.\n",
       "  If \u001b[36mwrite\u001b[39m is true, then writes go to the process's standard input and \u001b[36mstdio\u001b[39m\n",
       "  optionally specifies the process's standard output stream. The process's\n",
       "  standard error stream is connected to the current global \u001b[36mstderr\u001b[39m.\n",
       "\n",
       "  ────────────────────────────────────────────────────────────────────────────\n",
       "\n",
       "\u001b[36m  open(f::Function, command, args...; kwargs...)\u001b[39m\n",
       "\n",
       "  Similar to \u001b[36mopen(command, args...; kwargs...)\u001b[39m, but calls \u001b[36mf(stream)\u001b[39m on the\n",
       "  resulting process stream, then closes the input stream and waits for the\n",
       "  process to complete. Returns the value returned by \u001b[36mf\u001b[39m."
      ]
     },
     "execution_count": 21,
     "metadata": {},
     "output_type": "execute_result"
    }
   ],
   "source": [
    "# Definition from source\n",
    "?open"
   ]
  },
  {
   "cell_type": "code",
   "execution_count": 23,
   "metadata": {},
   "outputs": [
    {
     "data": {
      "text/plain": [
       "23"
      ]
     },
     "execution_count": 23,
     "metadata": {},
     "output_type": "execute_result"
    }
   ],
   "source": [
    "data = \"I wrote this with Julia\"\n",
    "open(\"test.txt\", \"w\") do io\n",
    "    write(io, data)\n",
    "end"
   ]
  },
  {
   "cell_type": "markdown",
   "metadata": {},
   "source": [
    "We can combine functions in Julia with 2 methods. \n",
    "\n",
    "First is the composition \\circ+Tab. "
   ]
  },
  {
   "cell_type": "code",
   "execution_count": 50,
   "metadata": {},
   "outputs": [
    {
     "ename": "LoadError",
     "evalue": "syntax: \"∘\" is not a unary operator",
     "output_type": "error",
     "traceback": [
      "syntax: \"∘\" is not a unary operator",
      ""
     ]
    }
   ],
   "source": [
    "# Not sure why this doesn't work\n",
    "(√ ∘ +)(10, 6)"
   ]
  },
  {
   "cell_type": "code",
   "execution_count": 51,
   "metadata": {},
   "outputs": [
    {
     "data": {
      "text/plain": [
       "4.0"
      ]
     },
     "execution_count": 51,
     "metadata": {},
     "output_type": "execute_result"
    }
   ],
   "source": [
    "# Asked on Slack and they said it's because of how √ is parsed \n",
    "((√) ∘ +)(10, 6)"
   ]
  },
  {
   "cell_type": "code",
   "execution_count": 42,
   "metadata": {},
   "outputs": [
    {
     "data": {
      "text/plain": [
       "4.0"
      ]
     },
     "execution_count": 42,
     "metadata": {},
     "output_type": "execute_result"
    }
   ],
   "source": [
    "√(+(10,6))"
   ]
  },
  {
   "cell_type": "code",
   "execution_count": 58,
   "metadata": {},
   "outputs": [
    {
     "data": {
      "text/plain": [
       "2.0"
      ]
     },
     "execution_count": 58,
     "metadata": {},
     "output_type": "execute_result"
    }
   ],
   "source": [
    "√(4)"
   ]
  },
  {
   "cell_type": "markdown",
   "metadata": {},
   "source": [
    "The second method is to pipe (aka chain) functiosn to send data from output to input. "
   ]
  },
  {
   "cell_type": "code",
   "execution_count": 48,
   "metadata": {},
   "outputs": [
    {
     "data": {
      "text/plain": [
       "7.416198487095663"
      ]
     },
     "execution_count": 48,
     "metadata": {},
     "output_type": "execute_result"
    }
   ],
   "source": [
    "1:10 |> sum |> sqrt"
   ]
  },
  {
   "cell_type": "code",
   "execution_count": 49,
   "metadata": {},
   "outputs": [
    {
     "data": {
      "text/plain": [
       "7.416198487095663"
      ]
     },
     "execution_count": 49,
     "metadata": {},
     "output_type": "execute_result"
    }
   ],
   "source": [
    "(sqrt ∘ sum)(1:10)"
   ]
  },
  {
   "cell_type": "markdown",
   "metadata": {},
   "source": [
    "The useful thing with piping is that we can broadcast some functions to dot notation for example `.|>`"
   ]
  },
  {
   "cell_type": "code",
   "execution_count": 73,
   "metadata": {},
   "outputs": [
    {
     "ename": "MethodError",
     "evalue": "MethodError: objects of type Array{Function,1} are not callable\nUse square brackets [] for indexing an Array.",
     "output_type": "error",
     "traceback": [
      "MethodError: objects of type Array{Function,1} are not callable\nUse square brackets [] for indexing an Array.",
      "",
      "Stacktrace:",
      " [1] |>(::Array{String,1}, ::Array{Function,1}) at ./operators.jl:823",
      " [2] top-level scope at In[73]:1"
     ]
    }
   ],
   "source": [
    "# This showcases the dot-vectorization notation described next; notice how we apply uppercase to first string, \n",
    "# then reverse to second, etc\n",
    "[\"a\", \"list\", \"of\", \"strings\"] .|> [uppercase, reverse, titlecase, length]"
   ]
  },
  {
   "cell_type": "markdown",
   "metadata": {},
   "source": [
    "Most languages have vectorized versions of functions to avoid writing loops for speed versions. We don't to do this in Julia but they can still be convenient. So **any function** can be applied elementwise with the syntax `f.(A)`. "
   ]
  },
  {
   "cell_type": "code",
   "execution_count": 74,
   "metadata": {},
   "outputs": [
    {
     "data": {
      "text/plain": [
       "5-element Array{Float64,1}:\n",
       "  0.8414709848078965\n",
       "  0.9092974268256817\n",
       "  0.1411200080598672\n",
       " -0.7568024953079282\n",
       " -0.9589242746631385"
      ]
     },
     "execution_count": 74,
     "metadata": {},
     "output_type": "execute_result"
    }
   ],
   "source": [
    "sin.([1,2,3,4,5])"
   ]
  },
  {
   "cell_type": "markdown",
   "metadata": {},
   "source": [
    "Generally, `f.(args...) = broadcast(f, args...)` which means we can operate on multiple arrays: "
   ]
  },
  {
   "cell_type": "code",
   "execution_count": 75,
   "metadata": {},
   "outputs": [
    {
     "data": {
      "text/plain": [
       "f (generic function with 2 methods)"
      ]
     },
     "execution_count": 75,
     "metadata": {},
     "output_type": "execute_result"
    }
   ],
   "source": [
    "f(x, y) = print(\"$x, $y\\n\")"
   ]
  },
  {
   "cell_type": "code",
   "execution_count": 79,
   "metadata": {},
   "outputs": [
    {
     "name": "stdout",
     "output_type": "stream",
     "text": [
      "π, [1, 2, 3, 4, 5]\n",
      "π, 1\n",
      "π, 2\n",
      "π, 3\n",
      "π, 4\n",
      "π, 5\n",
      "1, 1\n",
      "2, 2\n",
      "3, 3\n",
      "4, 4\n",
      "5, 5\n"
     ]
    },
    {
     "data": {
      "text/plain": [
       "5-element Array{Nothing,1}:\n",
       " nothing\n",
       " nothing\n",
       " nothing\n",
       " nothing\n",
       " nothing"
      ]
     },
     "execution_count": 79,
     "metadata": {},
     "output_type": "execute_result"
    }
   ],
   "source": [
    "A = [1,2,3,4,5]\n",
    "f(pi, A)\n",
    "f.(pi, A)\n",
    "f.(A, A)"
   ]
  },
  {
   "cell_type": "markdown",
   "metadata": {},
   "source": [
    "Since adding dots to code is tedious, the macro `@.` converts *every* function call, operation, and assignment in an expression to the \"dotted\" version"
   ]
  },
  {
   "cell_type": "code",
   "execution_count": 86,
   "metadata": {},
   "outputs": [
    {
     "data": {
      "text/plain": [
       "5-element Array{Float64,1}:\n",
       "  0.5143952585235492\n",
       " -0.4042391538522658\n",
       " -0.8360218615377305\n",
       " -0.6080830096407656\n",
       "  0.2798733507685274"
      ]
     },
     "execution_count": 86,
     "metadata": {},
     "output_type": "execute_result"
    }
   ],
   "source": [
    "Y = [1.0, 2.0, 3.0, 4.0, 5.0]\n",
    "X = similar(Y) # pre-allocate output array\n",
    "@. X = sin(cos(Y)) # Same as X .= sin.(cos.(Y))"
   ]
  },
  {
   "cell_type": "code",
   "execution_count": 88,
   "metadata": {},
   "outputs": [
    {
     "data": {
      "text/plain": [
       "2-element Array{Real,1}:\n",
       " 2\n",
       " 0.5"
      ]
     },
     "execution_count": 88,
     "metadata": {},
     "output_type": "execute_result"
    }
   ],
   "source": [
    "# This was the example above \n",
    "[1:2;] .|> [x->2x, inv]"
   ]
  },
  {
   "cell_type": "code",
   "execution_count": 89,
   "metadata": {},
   "outputs": [
    {
     "data": {
      "text/plain": [
       "1-element Array{UnitRange{Int64},1}:\n",
       " 1:3"
      ]
     },
     "execution_count": 89,
     "metadata": {},
     "output_type": "execute_result"
    }
   ],
   "source": [
    "[1:3]"
   ]
  },
  {
   "cell_type": "code",
   "execution_count": 90,
   "metadata": {},
   "outputs": [
    {
     "data": {
      "text/plain": [
       "3-element Array{Int64,1}:\n",
       " 1\n",
       " 2\n",
       " 3"
      ]
     },
     "execution_count": 90,
     "metadata": {},
     "output_type": "execute_result"
    }
   ],
   "source": [
    "[1:3;]"
   ]
  },
  {
   "cell_type": "code",
   "execution_count": null,
   "metadata": {},
   "outputs": [],
   "source": []
  }
 ],
 "metadata": {
  "kernelspec": {
   "display_name": "Julia 1.4.2",
   "language": "julia",
   "name": "julia-1.4"
  },
  "language_info": {
   "file_extension": ".jl",
   "mimetype": "application/julia",
   "name": "julia",
   "version": "1.4.2"
  }
 },
 "nbformat": 4,
 "nbformat_minor": 4
}
